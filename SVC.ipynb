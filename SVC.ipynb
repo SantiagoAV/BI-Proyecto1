{
 "cells": [
  {
   "cell_type": "code",
   "execution_count": 1,
   "metadata": {},
   "outputs": [],
   "source": [
    " seed = 161\n",
    "import pandas as pd\n",
    "import numpy as np\n",
    "import matplotlib.pyplot as plt\n",
    "import seaborn as sns\n",
    "import datetime\n",
    "\n",
    "from sklearn.preprocessing import PolynomialFeatures\n",
    "from sklearn.preprocessing import MinMaxScaler\n",
    "\n",
    "# Para crear el SVC\n",
    "from sklearn.svm import SVC\n",
    "from sklearn.model_selection import train_test_split\n",
    "# Para evaluar el modelo\n",
    "from sklearn.metrics import confusion_matrix, classification_report, precision_score, recall_score, f1_score, accuracy_score\n",
    "from sklearn.metrics import plot_confusion_matrix\n",
    "# Para búsqueda de hiperparámetros\n",
    "from sklearn.model_selection import GridSearchCV\n",
    "# Para la validación cruzada\n",
    "from sklearn.model_selection import KFold \n",
    "\n",
    "# Metricas\n",
    "from sklearn.metrics import mean_squared_error as mse\n",
    "\n",
    "\n",
    "from langdetect import detect\n",
    "\n"
   ]
  },
  {
   "cell_type": "code",
   "execution_count": 2,
   "metadata": {},
   "outputs": [
    {
     "data": {
      "text/plain": [
       "(19344048, 3)"
      ]
     },
     "execution_count": 2,
     "metadata": {},
     "output_type": "execute_result"
    }
   ],
   "source": [
    "# Se cargan los datos. \n",
    "df=pd.read_csv('mbsa.csv',  delimiter=\",\", header=0)\n",
    "# Cantidad de datos y número de variables\n",
    "df.shape"
   ]
  },
  {
   "cell_type": "code",
   "execution_count": 3,
   "metadata": {},
   "outputs": [
    {
     "data": {
      "text/html": [
       "<div>\n",
       "<style scoped>\n",
       "    .dataframe tbody tr th:only-of-type {\n",
       "        vertical-align: middle;\n",
       "    }\n",
       "\n",
       "    .dataframe tbody tr th {\n",
       "        vertical-align: top;\n",
       "    }\n",
       "\n",
       "    .dataframe thead th {\n",
       "        text-align: right;\n",
       "    }\n",
       "</style>\n",
       "<table border=\"1\" class=\"dataframe\">\n",
       "  <thead>\n",
       "    <tr style=\"text-align: right;\">\n",
       "      <th></th>\n",
       "      <th>Date</th>\n",
       "      <th>text</th>\n",
       "      <th>Sentiment</th>\n",
       "    </tr>\n",
       "  </thead>\n",
       "  <tbody>\n",
       "    <tr>\n",
       "      <th>0</th>\n",
       "      <td>2019-05-27</td>\n",
       "      <td>È appena uscito un nuovo video! LES CRYPTOMONN...</td>\n",
       "      <td>Positive</td>\n",
       "    </tr>\n",
       "    <tr>\n",
       "      <th>1</th>\n",
       "      <td>2019-05-27</td>\n",
       "      <td>Cardano: Digitize Currencies; EOS https://t.co...</td>\n",
       "      <td>Positive</td>\n",
       "    </tr>\n",
       "    <tr>\n",
       "      <th>2</th>\n",
       "      <td>2019-05-27</td>\n",
       "      <td>Another Test tweet that wasn't caught in the s...</td>\n",
       "      <td>Positive</td>\n",
       "    </tr>\n",
       "    <tr>\n",
       "      <th>3</th>\n",
       "      <td>2019-05-27</td>\n",
       "      <td>Current Crypto Prices! \\n\\nBTC: $8721.99 USD\\n...</td>\n",
       "      <td>Positive</td>\n",
       "    </tr>\n",
       "    <tr>\n",
       "      <th>4</th>\n",
       "      <td>2019-05-27</td>\n",
       "      <td>Spiv (Nosar Baz): BITCOIN Is An Asset &amp;amp; NO...</td>\n",
       "      <td>Positive</td>\n",
       "    </tr>\n",
       "  </tbody>\n",
       "</table>\n",
       "</div>"
      ],
      "text/plain": [
       "         Date                                               text Sentiment\n",
       "0  2019-05-27  È appena uscito un nuovo video! LES CRYPTOMONN...  Positive\n",
       "1  2019-05-27  Cardano: Digitize Currencies; EOS https://t.co...  Positive\n",
       "2  2019-05-27  Another Test tweet that wasn't caught in the s...  Positive\n",
       "3  2019-05-27  Current Crypto Prices! \\n\\nBTC: $8721.99 USD\\n...  Positive\n",
       "4  2019-05-27  Spiv (Nosar Baz): BITCOIN Is An Asset &amp; NO...  Positive"
      ]
     },
     "execution_count": 3,
     "metadata": {},
     "output_type": "execute_result"
    }
   ],
   "source": [
    "# Mostrar los datos\n",
    "df.head()"
   ]
  },
  {
   "cell_type": "code",
   "execution_count": 4,
   "metadata": {},
   "outputs": [
    {
     "data": {
      "text/html": [
       "<div>\n",
       "<style scoped>\n",
       "    .dataframe tbody tr th:only-of-type {\n",
       "        vertical-align: middle;\n",
       "    }\n",
       "\n",
       "    .dataframe tbody tr th {\n",
       "        vertical-align: top;\n",
       "    }\n",
       "\n",
       "    .dataframe thead th {\n",
       "        text-align: right;\n",
       "    }\n",
       "</style>\n",
       "<table border=\"1\" class=\"dataframe\">\n",
       "  <thead>\n",
       "    <tr style=\"text-align: right;\">\n",
       "      <th></th>\n",
       "      <th>Date</th>\n",
       "      <th>text</th>\n",
       "      <th>Sentiment</th>\n",
       "    </tr>\n",
       "  </thead>\n",
       "  <tbody>\n",
       "    <tr>\n",
       "      <th>count</th>\n",
       "      <td>19344048</td>\n",
       "      <td>19344032</td>\n",
       "      <td>18452904</td>\n",
       "    </tr>\n",
       "    <tr>\n",
       "      <th>unique</th>\n",
       "      <td>1917</td>\n",
       "      <td>14876178</td>\n",
       "      <td>3</td>\n",
       "    </tr>\n",
       "    <tr>\n",
       "      <th>top</th>\n",
       "      <td>2018-08-03</td>\n",
       "      <td>$EPAZ's Bitcoin Sharing &amp;amp; Blockchain Socia...</td>\n",
       "      <td>Negative</td>\n",
       "    </tr>\n",
       "    <tr>\n",
       "      <th>freq</th>\n",
       "      <td>995986</td>\n",
       "      <td>891106</td>\n",
       "      <td>9729297</td>\n",
       "    </tr>\n",
       "  </tbody>\n",
       "</table>\n",
       "</div>"
      ],
      "text/plain": [
       "              Date                                               text  \\\n",
       "count     19344048                                           19344032   \n",
       "unique        1917                                           14876178   \n",
       "top     2018-08-03  $EPAZ's Bitcoin Sharing &amp; Blockchain Socia...   \n",
       "freq        995986                                             891106   \n",
       "\n",
       "       Sentiment  \n",
       "count   18452904  \n",
       "unique         3  \n",
       "top     Negative  \n",
       "freq     9729297  "
      ]
     },
     "execution_count": 4,
     "metadata": {},
     "output_type": "execute_result"
    }
   ],
   "source": [
    "\n",
    "df.describe()"
   ]
  },
  {
   "cell_type": "code",
   "execution_count": 5,
   "metadata": {},
   "outputs": [
    {
     "data": {
      "text/html": [
       "<div>\n",
       "<style scoped>\n",
       "    .dataframe tbody tr th:only-of-type {\n",
       "        vertical-align: middle;\n",
       "    }\n",
       "\n",
       "    .dataframe tbody tr th {\n",
       "        vertical-align: top;\n",
       "    }\n",
       "\n",
       "    .dataframe thead th {\n",
       "        text-align: right;\n",
       "    }\n",
       "</style>\n",
       "<table border=\"1\" class=\"dataframe\">\n",
       "  <thead>\n",
       "    <tr style=\"text-align: right;\">\n",
       "      <th></th>\n",
       "      <th>Date</th>\n",
       "      <th>text</th>\n",
       "      <th>Sentiment</th>\n",
       "    </tr>\n",
       "  </thead>\n",
       "  <tbody>\n",
       "    <tr>\n",
       "      <th>18140197</th>\n",
       "      <td>2019-11-03</td>\n",
       "      <td>@KennethBosak You’re a bitcoin co founder! You...</td>\n",
       "      <td>Negative</td>\n",
       "    </tr>\n",
       "    <tr>\n",
       "      <th>2853810</th>\n",
       "      <td>2018-08-01</td>\n",
       "      <td>Mirror skilled traders automatically with Bitc...</td>\n",
       "      <td>Negative</td>\n",
       "    </tr>\n",
       "    <tr>\n",
       "      <th>6960471</th>\n",
       "      <td>2019-06-17</td>\n",
       "      <td>Bitcoin mining. Earn up to 30.000 Satoshi per ...</td>\n",
       "      <td>Positive</td>\n",
       "    </tr>\n",
       "    <tr>\n",
       "      <th>14074432</th>\n",
       "      <td>2019-09-02</td>\n",
       "      <td>What is funny is that when I am bearish, Bitco...</td>\n",
       "      <td>Positive</td>\n",
       "    </tr>\n",
       "    <tr>\n",
       "      <th>4782956</th>\n",
       "      <td>2017-10-08</td>\n",
       "      <td>New #btce bitcoin 24 hour high of $4718.856</td>\n",
       "      <td>Positive</td>\n",
       "    </tr>\n",
       "    <tr>\n",
       "      <th>...</th>\n",
       "      <td>...</td>\n",
       "      <td>...</td>\n",
       "      <td>...</td>\n",
       "    </tr>\n",
       "    <tr>\n",
       "      <th>9500110</th>\n",
       "      <td>2019-07-11</td>\n",
       "      <td>Jerome Powell hace caer al bitcoin</td>\n",
       "      <td>Negative</td>\n",
       "    </tr>\n",
       "    <tr>\n",
       "      <th>13007288</th>\n",
       "      <td>2019-08-15</td>\n",
       "      <td>@KailiJoy Grow your Bitcoin with the best bitc...</td>\n",
       "      <td>Positive</td>\n",
       "    </tr>\n",
       "    <tr>\n",
       "      <th>17776578</th>\n",
       "      <td>2019-10-28</td>\n",
       "      <td>@mattos18k Se não vê eu na quarta feira no btc...</td>\n",
       "      <td>Negative</td>\n",
       "    </tr>\n",
       "    <tr>\n",
       "      <th>10308682</th>\n",
       "      <td>2019-07-15</td>\n",
       "      <td>$EPAZ's Bitcoin Sharing &amp;amp; Blockchain Socia...</td>\n",
       "      <td>NaN</td>\n",
       "    </tr>\n",
       "    <tr>\n",
       "      <th>14235086</th>\n",
       "      <td>2019-09-03</td>\n",
       "      <td>@SynchroBit https://t.co/C4WkdEtqHn\\n\\n0x278F4...</td>\n",
       "      <td>Positive</td>\n",
       "    </tr>\n",
       "  </tbody>\n",
       "</table>\n",
       "<p>50000 rows × 3 columns</p>\n",
       "</div>"
      ],
      "text/plain": [
       "                Date                                               text  \\\n",
       "18140197  2019-11-03  @KennethBosak You’re a bitcoin co founder! You...   \n",
       "2853810   2018-08-01  Mirror skilled traders automatically with Bitc...   \n",
       "6960471   2019-06-17  Bitcoin mining. Earn up to 30.000 Satoshi per ...   \n",
       "14074432  2019-09-02  What is funny is that when I am bearish, Bitco...   \n",
       "4782956   2017-10-08        New #btce bitcoin 24 hour high of $4718.856   \n",
       "...              ...                                                ...   \n",
       "9500110   2019-07-11                Jerome Powell hace caer al bitcoin    \n",
       "13007288  2019-08-15  @KailiJoy Grow your Bitcoin with the best bitc...   \n",
       "17776578  2019-10-28  @mattos18k Se não vê eu na quarta feira no btc...   \n",
       "10308682  2019-07-15  $EPAZ's Bitcoin Sharing &amp; Blockchain Socia...   \n",
       "14235086  2019-09-03  @SynchroBit https://t.co/C4WkdEtqHn\\n\\n0x278F4...   \n",
       "\n",
       "         Sentiment  \n",
       "18140197  Negative  \n",
       "2853810   Negative  \n",
       "6960471   Positive  \n",
       "14074432  Positive  \n",
       "4782956   Positive  \n",
       "...            ...  \n",
       "9500110   Negative  \n",
       "13007288  Positive  \n",
       "17776578  Negative  \n",
       "10308682       NaN  \n",
       "14235086  Positive  \n",
       "\n",
       "[50000 rows x 3 columns]"
      ]
     },
     "execution_count": 5,
     "metadata": {},
     "output_type": "execute_result"
    }
   ],
   "source": [
    "dft = df.sample(50000)\n",
    "dft"
   ]
  },
  {
   "cell_type": "code",
   "execution_count": 6,
   "metadata": {},
   "outputs": [
    {
     "data": {
      "text/plain": [
       "(50000, 3)"
      ]
     },
     "execution_count": 6,
     "metadata": {},
     "output_type": "execute_result"
    }
   ],
   "source": [
    "dft.shape"
   ]
  },
  {
   "cell_type": "code",
   "execution_count": 7,
   "metadata": {},
   "outputs": [
    {
     "name": "stderr",
     "output_type": "stream",
     "text": [
      "C:\\Users\\sanva\\anaconda3\\lib\\site-packages\\pandas\\core\\series.py:4509: SettingWithCopyWarning: \n",
      "A value is trying to be set on a copy of a slice from a DataFrame\n",
      "\n",
      "See the caveats in the documentation: https://pandas.pydata.org/pandas-docs/stable/user_guide/indexing.html#returning-a-view-versus-a-copy\n",
      "  return super().replace(\n"
     ]
    }
   ],
   "source": [
    "# Se estandariza la informacion\n",
    "\n",
    "# funcion para asignar idioma\n",
    "def getLanguage (row):\n",
    "    try:\n",
    "        return detect(row['text'])\n",
    "    except:\n",
    "        return ''\n",
    "\n",
    "# filtrar por idoma\n",
    "dft['language']=dft.apply (lambda row: getLanguage(row), axis=1)\n",
    "dft=dft[dft['language']=='en']\n",
    "\n",
    "\n",
    "dft['Sentiment'].replace({'Positive':1, 'Negative':0}, inplace = True)\n",
    "dft=dft[dft['Sentiment'].isin([1,0])]"
   ]
  },
  {
   "cell_type": "code",
   "execution_count": 8,
   "metadata": {},
   "outputs": [],
   "source": [
    "def is_date(dates):\n",
    "    result = []\n",
    "    for date in dates:\n",
    "        try: \n",
    "            datetime.datetime.strptime(date, '%Y-%m-%d')\n",
    "            result.append(date)\n",
    "        except ValueError:\n",
    "            a=''\n",
    "    return result\n",
    "\n",
    "validDates = is_date(dft['Date'])\n",
    "\n",
    "dft=dft[dft['Date'].isin(validDates)]"
   ]
  },
  {
   "cell_type": "code",
   "execution_count": 9,
   "metadata": {},
   "outputs": [
    {
     "data": {
      "text/plain": [
       "(33798, 4)"
      ]
     },
     "execution_count": 9,
     "metadata": {},
     "output_type": "execute_result"
    }
   ],
   "source": [
    "dft.shape"
   ]
  },
  {
   "cell_type": "code",
   "execution_count": 10,
   "metadata": {},
   "outputs": [
    {
     "data": {
      "text/plain": [
       "0    17048\n",
       "1    16750\n",
       "Name: Sentiment, dtype: int64"
      ]
     },
     "execution_count": 10,
     "metadata": {},
     "output_type": "execute_result"
    }
   ],
   "source": [
    "pd.value_counts(dft['Sentiment'])"
   ]
  },
  {
   "cell_type": "code",
   "execution_count": 11,
   "metadata": {},
   "outputs": [
    {
     "data": {
      "text/html": [
       "<div>\n",
       "<style scoped>\n",
       "    .dataframe tbody tr th:only-of-type {\n",
       "        vertical-align: middle;\n",
       "    }\n",
       "\n",
       "    .dataframe tbody tr th {\n",
       "        vertical-align: top;\n",
       "    }\n",
       "\n",
       "    .dataframe thead th {\n",
       "        text-align: right;\n",
       "    }\n",
       "</style>\n",
       "<table border=\"1\" class=\"dataframe\">\n",
       "  <thead>\n",
       "    <tr style=\"text-align: right;\">\n",
       "      <th></th>\n",
       "      <th>Date</th>\n",
       "      <th>text</th>\n",
       "      <th>Sentiment</th>\n",
       "      <th>language</th>\n",
       "    </tr>\n",
       "  </thead>\n",
       "  <tbody>\n",
       "    <tr>\n",
       "      <th>18140197</th>\n",
       "      <td>2019-11-03</td>\n",
       "      <td>@KennethBosak You’re a bitcoin co founder! You...</td>\n",
       "      <td>0</td>\n",
       "      <td>en</td>\n",
       "    </tr>\n",
       "    <tr>\n",
       "      <th>2853810</th>\n",
       "      <td>2018-08-01</td>\n",
       "      <td>Mirror skilled traders automatically with Bitc...</td>\n",
       "      <td>0</td>\n",
       "      <td>en</td>\n",
       "    </tr>\n",
       "    <tr>\n",
       "      <th>6960471</th>\n",
       "      <td>2019-06-17</td>\n",
       "      <td>Bitcoin mining. Earn up to 30.000 Satoshi per ...</td>\n",
       "      <td>1</td>\n",
       "      <td>en</td>\n",
       "    </tr>\n",
       "    <tr>\n",
       "      <th>14074432</th>\n",
       "      <td>2019-09-02</td>\n",
       "      <td>What is funny is that when I am bearish, Bitco...</td>\n",
       "      <td>1</td>\n",
       "      <td>en</td>\n",
       "    </tr>\n",
       "    <tr>\n",
       "      <th>4782956</th>\n",
       "      <td>2017-10-08</td>\n",
       "      <td>New #btce bitcoin 24 hour high of $4718.856</td>\n",
       "      <td>1</td>\n",
       "      <td>en</td>\n",
       "    </tr>\n",
       "  </tbody>\n",
       "</table>\n",
       "</div>"
      ],
      "text/plain": [
       "                Date                                               text  \\\n",
       "18140197  2019-11-03  @KennethBosak You’re a bitcoin co founder! You...   \n",
       "2853810   2018-08-01  Mirror skilled traders automatically with Bitc...   \n",
       "6960471   2019-06-17  Bitcoin mining. Earn up to 30.000 Satoshi per ...   \n",
       "14074432  2019-09-02  What is funny is that when I am bearish, Bitco...   \n",
       "4782956   2017-10-08        New #btce bitcoin 24 hour high of $4718.856   \n",
       "\n",
       "         Sentiment language  \n",
       "18140197         0       en  \n",
       "2853810          0       en  \n",
       "6960471          1       en  \n",
       "14074432         1       en  \n",
       "4782956          1       en  "
      ]
     },
     "execution_count": 11,
     "metadata": {},
     "output_type": "execute_result"
    }
   ],
   "source": [
    "dft.head()"
   ]
  },
  {
   "cell_type": "code",
   "execution_count": 12,
   "metadata": {},
   "outputs": [],
   "source": [
    "# Ahora definimos la función que nos va a permitir construir nuestra clase.\n",
    "def labelWeekDay (row):\n",
    "    return datetime.datetime.strptime(row['Date'], '%Y-%m-%d').weekday()\n",
    "     \n",
    "dft['weekday_label']=dft.apply (lambda row: labelWeekDay(row), axis=1)\n"
   ]
  },
  {
   "cell_type": "code",
   "execution_count": 13,
   "metadata": {},
   "outputs": [
    {
     "data": {
      "text/html": [
       "<div>\n",
       "<style scoped>\n",
       "    .dataframe tbody tr th:only-of-type {\n",
       "        vertical-align: middle;\n",
       "    }\n",
       "\n",
       "    .dataframe tbody tr th {\n",
       "        vertical-align: top;\n",
       "    }\n",
       "\n",
       "    .dataframe thead th {\n",
       "        text-align: right;\n",
       "    }\n",
       "</style>\n",
       "<table border=\"1\" class=\"dataframe\">\n",
       "  <thead>\n",
       "    <tr style=\"text-align: right;\">\n",
       "      <th></th>\n",
       "      <th>Date</th>\n",
       "      <th>text</th>\n",
       "      <th>Sentiment</th>\n",
       "      <th>language</th>\n",
       "      <th>weekday_label</th>\n",
       "    </tr>\n",
       "  </thead>\n",
       "  <tbody>\n",
       "    <tr>\n",
       "      <th>18140197</th>\n",
       "      <td>2019-11-03</td>\n",
       "      <td>@KennethBosak You’re a bitcoin co founder! You...</td>\n",
       "      <td>0</td>\n",
       "      <td>en</td>\n",
       "      <td>6</td>\n",
       "    </tr>\n",
       "    <tr>\n",
       "      <th>2853810</th>\n",
       "      <td>2018-08-01</td>\n",
       "      <td>Mirror skilled traders automatically with Bitc...</td>\n",
       "      <td>0</td>\n",
       "      <td>en</td>\n",
       "      <td>2</td>\n",
       "    </tr>\n",
       "    <tr>\n",
       "      <th>6960471</th>\n",
       "      <td>2019-06-17</td>\n",
       "      <td>Bitcoin mining. Earn up to 30.000 Satoshi per ...</td>\n",
       "      <td>1</td>\n",
       "      <td>en</td>\n",
       "      <td>0</td>\n",
       "    </tr>\n",
       "    <tr>\n",
       "      <th>14074432</th>\n",
       "      <td>2019-09-02</td>\n",
       "      <td>What is funny is that when I am bearish, Bitco...</td>\n",
       "      <td>1</td>\n",
       "      <td>en</td>\n",
       "      <td>0</td>\n",
       "    </tr>\n",
       "    <tr>\n",
       "      <th>4782956</th>\n",
       "      <td>2017-10-08</td>\n",
       "      <td>New #btce bitcoin 24 hour high of $4718.856</td>\n",
       "      <td>1</td>\n",
       "      <td>en</td>\n",
       "      <td>6</td>\n",
       "    </tr>\n",
       "  </tbody>\n",
       "</table>\n",
       "</div>"
      ],
      "text/plain": [
       "                Date                                               text  \\\n",
       "18140197  2019-11-03  @KennethBosak You’re a bitcoin co founder! You...   \n",
       "2853810   2018-08-01  Mirror skilled traders automatically with Bitc...   \n",
       "6960471   2019-06-17  Bitcoin mining. Earn up to 30.000 Satoshi per ...   \n",
       "14074432  2019-09-02  What is funny is that when I am bearish, Bitco...   \n",
       "4782956   2017-10-08        New #btce bitcoin 24 hour high of $4718.856   \n",
       "\n",
       "         Sentiment language  weekday_label  \n",
       "18140197         0       en              6  \n",
       "2853810          0       en              2  \n",
       "6960471          1       en              0  \n",
       "14074432         1       en              0  \n",
       "4782956          1       en              6  "
      ]
     },
     "execution_count": 13,
     "metadata": {},
     "output_type": "execute_result"
    }
   ],
   "source": [
    "# nuevo dataframe para trabajar en el modelo y seleccionar keywords\n",
    "df_model = dft.copy()\n",
    "df_model.head()"
   ]
  },
  {
   "cell_type": "code",
   "execution_count": 14,
   "metadata": {},
   "outputs": [],
   "source": [
    "def labelKeyWord(row,word):\n",
    "    return row['text'].count(word)\n",
    "\n",
    "keyWords=['bitcoin','up','down','buy','sell','use','wait','wallet','btc']\n",
    "\n",
    "for word in keyWords:\n",
    "    df_model[word]=df_model.apply (lambda row: labelKeyWord(row, word), axis=1)"
   ]
  },
  {
   "cell_type": "code",
   "execution_count": 15,
   "metadata": {},
   "outputs": [
    {
     "data": {
      "text/html": [
       "<div>\n",
       "<style scoped>\n",
       "    .dataframe tbody tr th:only-of-type {\n",
       "        vertical-align: middle;\n",
       "    }\n",
       "\n",
       "    .dataframe tbody tr th {\n",
       "        vertical-align: top;\n",
       "    }\n",
       "\n",
       "    .dataframe thead th {\n",
       "        text-align: right;\n",
       "    }\n",
       "</style>\n",
       "<table border=\"1\" class=\"dataframe\">\n",
       "  <thead>\n",
       "    <tr style=\"text-align: right;\">\n",
       "      <th></th>\n",
       "      <th>Sentiment</th>\n",
       "      <th>weekday_label</th>\n",
       "      <th>bitcoin</th>\n",
       "      <th>up</th>\n",
       "      <th>down</th>\n",
       "      <th>buy</th>\n",
       "      <th>sell</th>\n",
       "      <th>use</th>\n",
       "      <th>wait</th>\n",
       "      <th>gained</th>\n",
       "      <th>lost</th>\n",
       "    </tr>\n",
       "  </thead>\n",
       "  <tbody>\n",
       "    <tr>\n",
       "      <th>18140197</th>\n",
       "      <td>0</td>\n",
       "      <td>6</td>\n",
       "      <td>3</td>\n",
       "      <td>0</td>\n",
       "      <td>0</td>\n",
       "      <td>0</td>\n",
       "      <td>0</td>\n",
       "      <td>0</td>\n",
       "      <td>0</td>\n",
       "      <td>0</td>\n",
       "      <td>0</td>\n",
       "    </tr>\n",
       "    <tr>\n",
       "      <th>2853810</th>\n",
       "      <td>0</td>\n",
       "      <td>2</td>\n",
       "      <td>0</td>\n",
       "      <td>0</td>\n",
       "      <td>0</td>\n",
       "      <td>0</td>\n",
       "      <td>0</td>\n",
       "      <td>0</td>\n",
       "      <td>0</td>\n",
       "      <td>0</td>\n",
       "      <td>0</td>\n",
       "    </tr>\n",
       "    <tr>\n",
       "      <th>6960471</th>\n",
       "      <td>1</td>\n",
       "      <td>0</td>\n",
       "      <td>0</td>\n",
       "      <td>1</td>\n",
       "      <td>0</td>\n",
       "      <td>0</td>\n",
       "      <td>0</td>\n",
       "      <td>0</td>\n",
       "      <td>0</td>\n",
       "      <td>0</td>\n",
       "      <td>0</td>\n",
       "    </tr>\n",
       "    <tr>\n",
       "      <th>14074432</th>\n",
       "      <td>1</td>\n",
       "      <td>0</td>\n",
       "      <td>0</td>\n",
       "      <td>0</td>\n",
       "      <td>1</td>\n",
       "      <td>0</td>\n",
       "      <td>0</td>\n",
       "      <td>0</td>\n",
       "      <td>0</td>\n",
       "      <td>0</td>\n",
       "      <td>0</td>\n",
       "    </tr>\n",
       "    <tr>\n",
       "      <th>4782956</th>\n",
       "      <td>1</td>\n",
       "      <td>6</td>\n",
       "      <td>1</td>\n",
       "      <td>0</td>\n",
       "      <td>0</td>\n",
       "      <td>0</td>\n",
       "      <td>0</td>\n",
       "      <td>0</td>\n",
       "      <td>0</td>\n",
       "      <td>0</td>\n",
       "      <td>0</td>\n",
       "    </tr>\n",
       "  </tbody>\n",
       "</table>\n",
       "</div>"
      ],
      "text/plain": [
       "         Sentiment  weekday_label  bitcoin  up  down  buy  sell  use  wait  \\\n",
       "18140197         0              6        3   0     0    0     0    0     0   \n",
       "2853810          0              2        0   0     0    0     0    0     0   \n",
       "6960471          1              0        0   1     0    0     0    0     0   \n",
       "14074432         1              0        0   0     1    0     0    0     0   \n",
       "4782956          1              6        1   0     0    0     0    0     0   \n",
       "\n",
       "          gained  lost  \n",
       "18140197       0     0  \n",
       "2853810        0     0  \n",
       "6960471        0     0  \n",
       "14074432       0     0  \n",
       "4782956        0     0  "
      ]
     },
     "execution_count": 15,
     "metadata": {},
     "output_type": "execute_result"
    }
   ],
   "source": [
    "df_model = df_model.drop(['text', 'Date', 'language'], axis=1)\n",
    "df_model.head()"
   ]
  },
  {
   "cell_type": "code",
   "execution_count": 16,
   "metadata": {},
   "outputs": [
    {
     "data": {
      "text/plain": [
       "(33798, 11)"
      ]
     },
     "execution_count": 16,
     "metadata": {},
     "output_type": "execute_result"
    }
   ],
   "source": [
    "df_model.shape"
   ]
  },
  {
   "cell_type": "code",
   "execution_count": 39,
   "metadata": {},
   "outputs": [
    {
     "data": {
      "text/plain": [
       "Sentiment        float64\n",
       "weekday_label    float64\n",
       "bitcoin          float64\n",
       "up               float64\n",
       "down             float64\n",
       "buy              float64\n",
       "sell             float64\n",
       "use              float64\n",
       "wait             float64\n",
       "gained           float64\n",
       "lost             float64\n",
       "dtype: object"
      ]
     },
     "execution_count": 39,
     "metadata": {},
     "output_type": "execute_result"
    }
   ],
   "source": [
    "df_model = df_model.astype(dtype=\"float64\")\n",
    "df_model.dtypes"
   ]
  },
  {
   "cell_type": "code",
   "execution_count": 47,
   "metadata": {},
   "outputs": [
    {
     "data": {
      "text/plain": [
       "Sentiment        16750.0\n",
       "weekday_label    98678.0\n",
       "bitcoin          12120.0\n",
       "up                4215.0\n",
       "down               624.0\n",
       "buy               1274.0\n",
       "sell               934.0\n",
       "use               1544.0\n",
       "wait               212.0\n",
       "gained              15.0\n",
       "lost                85.0\n",
       "dtype: float64"
      ]
     },
     "execution_count": 47,
     "metadata": {},
     "output_type": "execute_result"
    }
   ],
   "source": [
    "df_model.sum()"
   ]
  },
  {
   "cell_type": "markdown",
   "metadata": {},
   "source": [
    "# Construcción del modelo"
   ]
  },
  {
   "cell_type": "code",
   "execution_count": 40,
   "metadata": {},
   "outputs": [],
   "source": [
    "# Se selecciona la variable objetivo, en este caso 'Sentiment'.\n",
    "Y = df_model['Sentiment']\n",
    "# Del conjunto de datos se elimina la variable 'Sentiment'.\n",
    "X = df_model.drop(['Sentiment'], axis=1)\n"
   ]
  },
  {
   "cell_type": "code",
   "execution_count": 41,
   "metadata": {},
   "outputs": [],
   "source": [
    "# Dividir los datos en entrenamiento y test\n",
    "X_train, X_test, Y_train, Y_test = train_test_split(X, Y, test_size=0.2, random_state=seed)"
   ]
  },
  {
   "cell_type": "code",
   "execution_count": 42,
   "metadata": {},
   "outputs": [],
   "source": [
    "#Support vector machine con kernel lineal\n",
    "svc = SVC(kernel = 'linear')\n",
    "svc = svc.fit(X_train, Y_train)"
   ]
  },
  {
   "cell_type": "code",
   "execution_count": 43,
   "metadata": {},
   "outputs": [],
   "source": [
    "y_pred = svc.predict(X_test)"
   ]
  },
  {
   "cell_type": "code",
   "execution_count": 44,
   "metadata": {},
   "outputs": [
    {
     "data": {
      "image/png": "[encoded data removed]",
      "text/plain": [
       "<Figure size 432x288 with 2 Axes>"
      ]
     },
     "metadata": {
      "needs_background": "light"
     },
     "output_type": "display_data"
    }
   ],
   "source": [
    "#Matriz de confusion\n",
    "plot_confusion_matrix(svc, X_test, Y_test)  \n",
    "plt.show()"
   ]
  },
  {
   "cell_type": "code",
   "execution_count": 45,
   "metadata": {},
   "outputs": [
    {
     "name": "stdout",
     "output_type": "stream",
     "text": [
      "              precision    recall  f1-score   support\n",
      "\n",
      "         0.0       0.51      0.50      0.50      3405\n",
      "         1.0       0.50      0.51      0.50      3355\n",
      "\n",
      "    accuracy                           0.50      6760\n",
      "   macro avg       0.50      0.50      0.50      6760\n",
      "weighted avg       0.50      0.50      0.50      6760\n",
      "\n"
     ]
    }
   ],
   "source": [
    "#Reporte con las metricas\n",
    "print(classification_report(Y_test, y_pred))"
   ]
  },
  {
   "cell_type": "code",
   "execution_count": 46,
   "metadata": {},
   "outputs": [
    {
     "name": "stdout",
     "output_type": "stream",
     "text": [
      "Exactitud: 0.50\n",
      "Recall: 0.5081967213114754\n",
      "Precisión: 0.5004402700322864\n",
      "Puntuación F1: 0.5042886719905353\n"
     ]
    }
   ],
   "source": [
    "print('Exactitud: %.2f' % accuracy_score(Y_test, y_pred))\n",
    "print(\"Recall: {}\".format(recall_score(Y_test,y_pred)))\n",
    "print(\"Precisión: {}\".format(precision_score(Y_test,y_pred)))\n",
    "print(\"Puntuación F1: {}\".format(f1_score(Y_test,y_pred)))"
   ]
  }
 ],
 "metadata": {
  "interpreter": {
   "hash": "4f5779857f90b9e1a17036939e5bf10fd74ad108eac01fc4c11a1d5b8ce765b6"
  },
  "kernelspec": {
   "display_name": "Python 3.8.8 64-bit ('base': conda)",
   "name": "python3"
  },
  "language_info": {
   "codemirror_mode": {
    "name": "ipython",
    "version": 3
   },
   "file_extension": ".py",
   "mimetype": "text/x-python",
   "name": "python",
   "nbconvert_exporter": "python",
   "pygments_lexer": "ipython3",
   "version": "3.8.8"
  }
 },
 "nbformat": 4,
 "nbformat_minor": 2
}
